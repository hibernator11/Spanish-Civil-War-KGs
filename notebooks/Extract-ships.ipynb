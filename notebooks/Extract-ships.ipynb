{
 "cells": [
  {
   "cell_type": "markdown",
   "id": "b8c33416-fd88-49fa-9278-9072cd45b33f",
   "metadata": {},
   "source": [
    "## Refugee ships helping during the Spanish exile and the Spanish Civil War\n",
    "\n",
    "This example uses a SPARQL query to retrieve the refugee ships helping during the Spanish exile and the Spanish Civil War.\n",
    "\n",
    "This example shows how to use <a href=\"https://www.w3.org/TR/sparql11-query/\">SPARQL</a> as a query language in Linked Open Data repositories."
   ]
  },
  {
   "cell_type": "markdown",
   "id": "080a0add-aac8-4720-85c4-537ce550699f",
   "metadata": {},
   "source": [
    "### First of all, we init the SPARQLWrapper service with the SPARQL endpoint"
   ]
  },
  {
   "cell_type": "code",
   "execution_count": 3,
   "id": "acfc8563-d5f9-4289-81b8-4908369e3580",
   "metadata": {},
   "outputs": [],
   "source": [
    "from SPARQLWrapper import SPARQLWrapper\n",
    "\n",
    "sparql = SPARQLWrapper(\"https://query.wikidata.org/sparql\")"
   ]
  },
  {
   "cell_type": "markdown",
   "id": "d368bb9c-1bb9-4ba6-8c0d-5d0fcc924ec6",
   "metadata": {},
   "source": [
    "### Then we define our CONSTRUCT query to extract the metadata"
   ]
  },
  {
   "cell_type": "code",
   "execution_count": 6,
   "id": "f1f8ef02-e1ca-405e-8dde-03eb91facc88",
   "metadata": {},
   "outputs": [],
   "source": [
    "sparql.setQuery(\"\"\"\n",
    "PREFIX wdt: <http://www.wikidata.org/prop/direct/>\n",
    "PREFIX wd: <http://www.wikidata.org/entity/>\n",
    "\n",
    "CONSTRUCT{\n",
    "  ?ship wdt:P31 wd:Q697196 .\n",
    "  ?ship wdt:P4813 ?idpares.\n",
    "  ?ship rdfs:label ?shipLabel\n",
    "}\n",
    "WHERE {\n",
    "  ?ship wdt:P31 wd:Q697196 .\n",
    "  ?ship wdt:P4813 ?idpares.\n",
    "  ?ship rdfs:label ?shipLabel . FILTER (lang(?shipLabel) = 'en') \n",
    "}\n",
    "\"\"\"\n",
    ")"
   ]
  },
  {
   "cell_type": "markdown",
   "id": "51ed323c-22a8-49aa-b07a-bdc9cc68e0e4",
   "metadata": {},
   "source": [
    "### Finally, we serialise the result"
   ]
  },
  {
   "cell_type": "code",
   "execution_count": 9,
   "id": "1c4ad5c9-36a4-463f-a71c-1d42d15aa34f",
   "metadata": {},
   "outputs": [
    {
     "name": "stdout",
     "output_type": "stream",
     "text": [
      "@prefix rdfs: <http://www.w3.org/2000/01/rdf-schema#> .\n",
      "@prefix wd: <http://www.wikidata.org/entity/> .\n",
      "@prefix wdt: <http://www.wikidata.org/prop/direct/> .\n",
      "@prefix xsd: <http://www.w3.org/2001/XMLSchema#> .\n",
      "\n",
      "wd:Q11696214 rdfs:label \"Nyassa\"@en ;\n",
      "    wdt:P31 wd:Q697196 ;\n",
      "    wdt:P4813 \"123493\"^^xsd:string .\n",
      "\n",
      "wd:Q134521282 rdfs:label \"Champlain\"@en ;\n",
      "    wdt:P31 wd:Q697196 ;\n",
      "    wdt:P4813 \"123763\"^^xsd:string .\n",
      "\n",
      "wd:Q134521348 rdfs:label \"Colonial\"@en ;\n",
      "    wdt:P31 wd:Q697196 ;\n",
      "    wdt:P4813 \"123674\"^^xsd:string .\n",
      "\n",
      "wd:Q134521359 rdfs:label \"Cuba\"@en ;\n",
      "    wdt:P31 wd:Q697196 ;\n",
      "    wdt:P4813 \"123667\"^^xsd:string .\n",
      "\n",
      "wd:Q134521371 rdfs:label \"Flandre\"@en ;\n",
      "    wdt:P31 wd:Q697196 ;\n",
      "    wdt:P4813 \"123090\"^^xsd:string .\n",
      "\n",
      "wd:Q134521374 rdfs:label \"Foz de Douro\"@en ;\n",
      "    wdt:P31 wd:Q697196 ;\n",
      "    wdt:P4813 \"123677\"^^xsd:string .\n",
      "\n",
      "wd:Q134521381 rdfs:label \"Guinea\"@en ;\n",
      "    wdt:P31 wd:Q697196 ;\n",
      "    wdt:P4813 \"123678\"^^xsd:string .\n",
      "\n",
      "wd:Q134521385 rdfs:label \"Iberia\"@en ;\n",
      "    wdt:P31 wd:Q697196 ;\n",
      "    wdt:P4813 \"123684\"^^xsd:string .\n",
      "\n",
      "wd:Q134521390 rdfs:label \"Ipanema\"@en ;\n",
      "    wdt:P31 wd:Q697196 ;\n",
      "    wdt:P4813 \"123038\"^^xsd:string .\n",
      "\n",
      "wd:Q134521396 rdfs:label \"Jaragua\"@en ;\n",
      "    wdt:P31 wd:Q697196 ;\n",
      "    wdt:P4813 \"141919\"^^xsd:string .\n",
      "\n",
      "wd:Q134521407 rdfs:label \"Lasalle\"@en ;\n",
      "    wdt:P31 wd:Q697196 ;\n",
      "    wdt:P4813 \"123601\"^^xsd:string .\n",
      "\n",
      "wd:Q134521412 rdfs:label \"Manuel Arnús\"@en ;\n",
      "    wdt:P31 wd:Q697196 ;\n",
      "    wdt:P4813 \"123690\"^^xsd:string .\n",
      "\n",
      "wd:Q28517197 rdfs:label \"Alsina\"@en ;\n",
      "    wdt:P31 wd:Q697196 ;\n",
      "    wdt:P4813 \"153631\"^^xsd:string .\n",
      "\n",
      "wd:Q3297717 rdfs:label \"Massilia\"@en ;\n",
      "    wdt:P31 wd:Q697196 ;\n",
      "    wdt:P4813 \"123765\"^^xsd:string .\n",
      "\n",
      "wd:Q5484985 rdfs:label \"Sinaia\"@en ;\n",
      "    wdt:P31 wd:Q697196 ;\n",
      "    wdt:P4813 \"122944\"^^xsd:string .\n",
      "\n",
      "\n"
     ]
    }
   ],
   "source": [
    "results = sparql.queryAndConvert()\n",
    "print(results.serialize())"
   ]
  },
  {
   "cell_type": "markdown",
   "id": "d7879d72-d064-42f5-90f6-9aa8653153d5",
   "metadata": {},
   "source": [
    "### We can save the results to a file"
   ]
  },
  {
   "cell_type": "code",
   "execution_count": 12,
   "id": "da87c939-f8b3-4686-aeac-3d37b0d56644",
   "metadata": {},
   "outputs": [],
   "source": [
    "with open(\"output/ships.ttl\", \"w\") as text_file:\n",
    "    text_file.write(results.serialize())"
   ]
  },
  {
   "cell_type": "markdown",
   "id": "bf60a833-32c2-4749-95fd-9dde44a94301",
   "metadata": {},
   "source": [
    "### We can also provide metadata about the extracted dataset using ontologies and controlled vocabularies"
   ]
  },
  {
   "cell_type": "code",
   "execution_count": 15,
   "id": "89bedf9b-d585-4c17-8028-9433063ae870",
   "metadata": {},
   "outputs": [],
   "source": [
    "from rdflib import Graph, URIRef, Literal, Namespace\n",
    "from rdflib.namespace import FOAF, RDF, DCTERMS, VOID, DC, SKOS, OWL\n",
    "import datetime"
   ]
  },
  {
   "cell_type": "code",
   "execution_count": 17,
   "id": "90c193e8-183e-4d46-8f1e-6d63954426e6",
   "metadata": {},
   "outputs": [],
   "source": [
    "domain = 'https://example.org/'\n",
    "\n",
    "g = Graph()\n",
    "g.bind(\"foaf\", FOAF)\n",
    "g.bind(\"rdf\", RDF)\n",
    "g.bind(\"dcterms\", DCTERMS)\n",
    "g.bind(\"dc\", DC)\n",
    "g.bind(\"void\", VOID)\n",
    "g.bind(\"skos\", SKOS)\n",
    "g.bind(\"owl\", OWL)\n",
    "\n",
    "schema = Namespace(\"https://schema.org/\")\n",
    "g.bind(\"schema\", schema)\n",
    "\n",
    "viaf = Namespace(\"https://viaf.org/viaf/\")\n",
    "g.bind(\"viaf\", viaf)\n",
    "\n",
    "wd = Namespace(\"http://www.wikidata.org/entity/\")\n",
    "g.bind(\"wd\", wd)"
   ]
  },
  {
   "cell_type": "code",
   "execution_count": 19,
   "id": "a4d3d436-cf1a-4a5f-b696-23689edb3410",
   "metadata": {},
   "outputs": [
    {
     "data": {
      "text/plain": [
       "<Graph identifier=N042a84fe1ce54abfb2f49b80d6b6c093 (<class 'rdflib.graph.Graph'>)>"
      ]
     },
     "execution_count": 19,
     "metadata": {},
     "output_type": "execute_result"
    }
   ],
   "source": [
    "dataset = URIRef(domain + \"dataset/artists\")\n",
    "\n",
    "g.add((dataset, RDF.type, schema.Dataset))\n",
    "g.add((dataset, schema.url, URIRef(\"https://www.cultura.gob.es/en/cultura/areas/archivos/mc/centros/cida/4-difusion-cooperacion/4-1-guias-de-lectura/guia-exilio-espanol-1939-archivos-estatales/barcos-exilio.html\")))\n",
    "g.add((dataset, schema.description, Literal(\"The refugee ships on which the Spanish exiles embarked were the silent witnesses to this colossal exodus.\")))\n",
    "g.add((dataset, schema.name, Literal(\"Exile ships\")))\n",
    "g.add((dataset, DC.title, Literal(\"Exile ships\")))\n",
    "g.add((dataset, schema.license, URIRef('https://creativecommons.org/publicdomain/zero/1.0/')))\n",
    "\n",
    "now = datetime.datetime.now()\n",
    "g.add((dataset, schema.dateCreated, Literal(str(now)[:10])))"
   ]
  },
  {
   "cell_type": "markdown",
   "id": "585a5504-c004-4cff-9a71-efe4a654a45e",
   "metadata": {},
   "source": [
    "Let's store the metadata generated"
   ]
  },
  {
   "cell_type": "code",
   "execution_count": 22,
   "id": "56f72cd1-9a6c-4bc4-b280-a4c545eedf12",
   "metadata": {},
   "outputs": [
    {
     "data": {
      "text/plain": [
       "<Graph identifier=N042a84fe1ce54abfb2f49b80d6b6c093 (<class 'rdflib.graph.Graph'>)>"
      ]
     },
     "execution_count": 22,
     "metadata": {},
     "output_type": "execute_result"
    }
   ],
   "source": [
    "g.serialize(destination=\"output/metadata-ships.ttl\") "
   ]
  },
  {
   "cell_type": "markdown",
   "id": "e8ac18a1-dda0-47e7-b1a7-161d939163fd",
   "metadata": {},
   "source": [
    "### Finally we can analyse the metadata generated"
   ]
  },
  {
   "cell_type": "code",
   "execution_count": 25,
   "id": "041ffc0f-9399-487b-be40-9dd1fe9616e0",
   "metadata": {},
   "outputs": [],
   "source": [
    "input_file = \"output/ships.ttl\"\n",
    "g = Graph().parse(input_file)"
   ]
  },
  {
   "cell_type": "markdown",
   "id": "36516988-b55d-41d6-9dc4-6fe35e6f0b52",
   "metadata": {},
   "source": [
    "Let's check the number of properties"
   ]
  },
  {
   "cell_type": "code",
   "execution_count": 28,
   "id": "de2c208d-a570-45b1-94cc-ed3fc9729f09",
   "metadata": {},
   "outputs": [
    {
     "name": "stdout",
     "output_type": "stream",
     "text": [
      "##### Number of properties:\n",
      "3\n"
     ]
    }
   ],
   "source": [
    "print('##### Number of properties:')\n",
    "\n",
    "# Query the data in g using SPARQL\n",
    "q = \"\"\"\n",
    "    SELECT (count(distinct ?prop) as ?properties)\n",
    "    WHERE {\n",
    "        ?s ?prop ?o .\n",
    "    }\n",
    "\"\"\"\n",
    "\n",
    "# Apply the query to the graph and iterate through results\n",
    "for r in g.query(q):\n",
    "    print(r[\"properties\"])"
   ]
  },
  {
   "cell_type": "markdown",
   "id": "daa4b39d-e792-4712-bb64-00be278dbb39",
   "metadata": {},
   "source": [
    "We can also check the total number of triples"
   ]
  },
  {
   "cell_type": "code",
   "execution_count": 31,
   "id": "3254590a-a649-4aab-ad88-369c7140a581",
   "metadata": {},
   "outputs": [
    {
     "name": "stdout",
     "output_type": "stream",
     "text": [
      "##### Number of triples:\n",
      "45\n"
     ]
    }
   ],
   "source": [
    "print('##### Number of triples:')\n",
    "    \n",
    "# Query the data in g using SPARQL\n",
    "q = \"\"\"\n",
    "    SELECT (COUNT(*) as ?triples) \n",
    "    WHERE { ?s ?p ?o } \n",
    "\"\"\"\n",
    "\n",
    "# Apply the query to the graph and iterate through results\n",
    "for r in g.query(q):\n",
    "    print(r[\"triples\"])"
   ]
  },
  {
   "cell_type": "code",
   "execution_count": null,
   "id": "40e3f346-beb3-4ded-8f94-20952bf450d5",
   "metadata": {},
   "outputs": [],
   "source": []
  }
 ],
 "metadata": {
  "kernelspec": {
   "display_name": "Python [conda env:federated-psarql]",
   "language": "python",
   "name": "conda-env-federated-psarql-py"
  },
  "language_info": {
   "codemirror_mode": {
    "name": "ipython",
    "version": 3
   },
   "file_extension": ".py",
   "mimetype": "text/x-python",
   "name": "python",
   "nbconvert_exporter": "python",
   "pygments_lexer": "ipython3",
   "version": "3.11.11"
  }
 },
 "nbformat": 4,
 "nbformat_minor": 5
}
