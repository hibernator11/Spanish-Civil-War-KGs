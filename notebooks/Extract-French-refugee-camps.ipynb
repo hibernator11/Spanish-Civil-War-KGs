{
 "cells": [
  {
   "cell_type": "markdown",
   "id": "b8c33416-fd88-49fa-9278-9072cd45b33f",
   "metadata": {},
   "source": [
    "## French refugee camps, which concentrated the Spanish Republican exiles of 1939\n",
    "\n",
    "Example to retrieve the French refugee camps, which concentrated the Spanish Republican exiles of 1939. \n",
    "Note that the property wdt:P4813 is used to connect Wikidata entities with the resources provided by the Guide to the Spanish Exile of 1939 in the State Archives\n",
    "\n",
    "This example shows how to use <a href=\"https://www.w3.org/TR/sparql11-query/\">SPARQL</a> as a query language in Linked Open Data repositories."
   ]
  },
  {
   "cell_type": "markdown",
   "id": "080a0add-aac8-4720-85c4-537ce550699f",
   "metadata": {},
   "source": [
    "### First of all, we init the SPARQLWrapper service with the SPARQL endpoint"
   ]
  },
  {
   "cell_type": "code",
   "execution_count": 43,
   "id": "acfc8563-d5f9-4289-81b8-4908369e3580",
   "metadata": {},
   "outputs": [],
   "source": [
    "from SPARQLWrapper import SPARQLWrapper\n",
    "\n",
    "sparql = SPARQLWrapper(\"https://query.wikidata.org/sparql\")"
   ]
  },
  {
   "cell_type": "markdown",
   "id": "d368bb9c-1bb9-4ba6-8c0d-5d0fcc924ec6",
   "metadata": {},
   "source": [
    "### Then we define our CONSTRUCT query to extract the metadata"
   ]
  },
  {
   "cell_type": "code",
   "execution_count": 56,
   "id": "f1f8ef02-e1ca-405e-8dde-03eb91facc88",
   "metadata": {},
   "outputs": [],
   "source": [
    "sparql.setQuery(\"\"\"\n",
    "PREFIX wdt: <http://www.wikidata.org/prop/direct/>\n",
    "PREFIX wd: <http://www.wikidata.org/entity/>\n",
    "\n",
    "CONSTRUCT {\n",
    "  ?camp wdt:P31 ?type .\n",
    "  ?camp wdt:P4813 ?idpares.\n",
    "  ?camp rdfs:label ?label.\n",
    "  ?camp wdt:P17 ?country .\n",
    "  ?camp wdt:P131 ?location .\n",
    "  ?camp wdt:P244 ?loc .\n",
    "  ?camp wdt:P580 ?starttime .\n",
    "  ?camp wdt:P582 ?endtime .\n",
    "  ?camp wdt:P571 ?inception .\n",
    "  ?camp wdt:P576 ?dissolved .\n",
    "  ?camp wdt:P5630 ?prisoners .\n",
    "  ?camp wdt:P18 ?image .\n",
    "  ?camp wdt:P2046 ?area .\n",
    "  ?location rdfs:label ?locationLabel .\n",
    "  ?loc rdfs:label ?locLabel .\n",
    "  ?country rdfs:label ?countryLabel .\n",
    "}\n",
    "WHERE {\n",
    "  VALUES ?type {wd:Q152081 wd:Q2935245 wd:Q5996900}\n",
    "  VALUES ?camp {\n",
    "      wd:Q11911061 wd:Q1579889 wd:Q2935277 wd:Q18191950 wd:Q973585 \n",
    "      wd:Q133978695 wd:Q133978879 wd:Q1604600 wd:Q1668052 wd:Q45501756 \n",
    "      wd:Q708638 wd:Q133979733 wd:Q45503576 wd:Q133979399 wd:Q133979241 wd:Q325332}\n",
    "  ?camp wdt:P31 ?type .\n",
    "  ?camp wdt:P4813 ?idpares.\n",
    "  ?camp rdfs:label ?campLabel . FILTER (lang(?campLabel) = 'es') .\n",
    "  ?camp wdt:P17 ?country . \n",
    "  ?country rdfs:label ?countryLabel . FILTER (lang(?countryLabel) = 'es') . \n",
    "  OPTIONAL{?camp wdt:P131 ?location . ?location rdfs:label ?locationLabel . FILTER (lang(?locationLabel) = 'es')}\n",
    "  OPTIONAL{?camp wdt:P244 ?loc . ?loc rdfs:label ?locLabel . FILTER (lang(?locLabel) = 'es')}\n",
    "  OPTIONAL{?camp wdt:P580 ?starttime .}\n",
    "  OPTIONAL{?camp wdt:P582 ?endtime .}\n",
    "  OPTIONAL{?camp wdt:P571 ?inception .}\n",
    "  OPTIONAL{?camp wdt:P576 ?dissolved .}\n",
    "  OPTIONAL{?camp wdt:P5630 ?prisoners .}\n",
    "  OPTIONAL{?camp wdt:P18 ?image .}\n",
    "  OPTIONAL{?camp wdt:P2046 ?area .}\n",
    "}\n",
    "\"\"\"\n",
    ")"
   ]
  },
  {
   "cell_type": "markdown",
   "id": "51ed323c-22a8-49aa-b07a-bdc9cc68e0e4",
   "metadata": {},
   "source": [
    "### Finally, we serialise the result"
   ]
  },
  {
   "cell_type": "code",
   "execution_count": 59,
   "id": "1c4ad5c9-36a4-463f-a71c-1d42d15aa34f",
   "metadata": {},
   "outputs": [
    {
     "name": "stdout",
     "output_type": "stream",
     "text": [
      "@prefix rdfs: <http://www.w3.org/2000/01/rdf-schema#> .\n",
      "@prefix wd: <http://www.wikidata.org/entity/> .\n",
      "@prefix wdt: <http://www.wikidata.org/prop/direct/> .\n",
      "@prefix xsd: <http://www.w3.org/2001/XMLSchema#> .\n",
      "\n",
      "wd:Q11911061 wdt:P131 wd:Q8672 ;\n",
      "    wdt:P17 wd:Q142 ;\n",
      "    wdt:P31 wd:Q152081 ;\n",
      "    wdt:P4813 \"123494\"^^xsd:string .\n",
      "\n",
      "wd:Q133978695 wdt:P131 wd:Q785353 ;\n",
      "    wdt:P17 wd:Q142 ;\n",
      "    wdt:P31 wd:Q152081 ;\n",
      "    wdt:P4813 \"152945\"^^xsd:string .\n",
      "\n",
      "wd:Q133978879 wdt:P131 wd:Q12808 ;\n",
      "    wdt:P17 wd:Q142 ;\n",
      "    wdt:P31 wd:Q152081 ;\n",
      "    wdt:P4813 \"152943\"^^xsd:string .\n",
      "\n",
      "wd:Q133979241 wdt:P131 wd:Q12709 ;\n",
      "    wdt:P17 wd:Q142 ;\n",
      "    wdt:P31 wd:Q152081 ;\n",
      "    wdt:P4813 \"152939\"^^xsd:string ;\n",
      "    wdt:P5630 <http://www.wikidata.org/.well-known/genid/9480aab8ec3d4774adea7ce44595298b> .\n",
      "\n",
      "wd:Q133979733 wdt:P131 wd:Q828602 ;\n",
      "    wdt:P17 wd:Q142 ;\n",
      "    wdt:P31 wd:Q152081 ;\n",
      "    wdt:P4813 \"123497\"^^xsd:string .\n",
      "\n",
      "wd:Q1579889 wdt:P131 wd:Q644728 ;\n",
      "    wdt:P17 wd:Q142 ;\n",
      "    wdt:P18 <http://commons.wikimedia.org/wiki/Special:FilePath/22NUM1PH2-35%20Habitations%20de%20fortune.jpg> ;\n",
      "    wdt:P31 wd:Q152081 ;\n",
      "    wdt:P4813 \"123496\"^^xsd:string .\n",
      "\n",
      "wd:Q1604600 wdt:P131 wd:Q689457 ;\n",
      "    wdt:P17 wd:Q142 ;\n",
      "    wdt:P18 <http://commons.wikimedia.org/wiki/Special:FilePath/El%20Barcar%C3%A8s%2013.jpg> ;\n",
      "    wdt:P31 wd:Q152081,\n",
      "        wd:Q2935245 ;\n",
      "    wdt:P4813 \"123498\"^^xsd:string .\n",
      "\n",
      "wd:Q1668052 wdt:P17 wd:Q142 ;\n",
      "    wdt:P18 <http://commons.wikimedia.org/wiki/Special:FilePath/Agde%20-%20Monument%20Camp%20d%27Agde01.jpg> ;\n",
      "    wdt:P31 wd:Q152081 ;\n",
      "    wdt:P4813 \"123502\"^^xsd:string .\n",
      "\n",
      "wd:Q18191950 wdt:P131 wd:Q752547 ;\n",
      "    wdt:P17 wd:Q142 ;\n",
      "    wdt:P18 <http://commons.wikimedia.org/wiki/Special:FilePath/Logor%20San%20Siprijen%201939.jpg> ;\n",
      "    wdt:P31 wd:Q152081 ;\n",
      "    wdt:P4813 \"123212\"^^xsd:string ;\n",
      "    wdt:P571 \"1939-02-09T00:00:00+00:00\"^^xsd:dateTime .\n",
      "\n",
      "wd:Q325332 wdt:P131 wd:Q821246 ;\n",
      "    wdt:P17 wd:Q142 ;\n",
      "    wdt:P18 <http://commons.wikimedia.org/wiki/Special:FilePath/Bundesarchiv%20Bild%20146-1989-107-24%2C%20Frankreich%2C%20Einsatz%20gegen%20die%20Resistance.jpg> ;\n",
      "    wdt:P2046 600.0 ;\n",
      "    wdt:P31 wd:Q2935245 ;\n",
      "    wdt:P4813 \"152100\"^^xsd:string .\n",
      "\n",
      "wd:Q45503576 wdt:P131 wd:Q233233 ;\n",
      "    wdt:P17 wd:Q262 ;\n",
      "    wdt:P31 wd:Q152081 ;\n",
      "    wdt:P4813 \"153619\"^^xsd:string .\n",
      "\n",
      "wd:Q708638 wdt:P131 wd:Q275882 ;\n",
      "    wdt:P17 wd:Q142 ;\n",
      "    wdt:P18 <http://commons.wikimedia.org/wiki/Special:FilePath/Gurs%20tombes-3.JPG> ;\n",
      "    wdt:P31 wd:Q5996900 ;\n",
      "    wdt:P4813 \"123500\"^^xsd:string ;\n",
      "    wdt:P580 \"1939-04-01T00:00:00+00:00\"^^xsd:dateTime ;\n",
      "    wdt:P582 \"1943-11-01T00:00:00+00:00\"^^xsd:dateTime .\n",
      "\n",
      "wd:Q973585 wdt:P131 wd:Q1144031,\n",
      "        wd:Q693973 ;\n",
      "    wdt:P17 wd:Q142 ;\n",
      "    wdt:P18 <http://commons.wikimedia.org/wiki/Special:FilePath/Camp%20de%20vernet.jpg>,\n",
      "        <http://commons.wikimedia.org/wiki/Special:FilePath/Vernet5.jpg> ;\n",
      "    wdt:P31 wd:Q152081,\n",
      "        wd:Q2935245 ;\n",
      "    wdt:P4813 \"123499\"^^xsd:string ;\n",
      "    wdt:P5630 40000.0 ;\n",
      "    wdt:P571 \"1918-06-01T00:00:00+00:00\"^^xsd:dateTime ;\n",
      "    wdt:P576 \"1944-06-01T00:00:00+00:00\"^^xsd:dateTime .\n",
      "\n",
      "wd:Q1144031 rdfs:label \"Le Vernet\"@es .\n",
      "\n",
      "wd:Q12709 rdfs:label \"Pirineos Orientales\"@es .\n",
      "\n",
      "wd:Q12808 rdfs:label \"Alto Vienne\"@es .\n",
      "\n",
      "wd:Q233233 rdfs:label \"Provincia de Djelfa\"@es .\n",
      "\n",
      "wd:Q262 rdfs:label \"Argelia\"@es .\n",
      "\n",
      "wd:Q275882 rdfs:label \"Gurs\"@es .\n",
      "\n",
      "wd:Q644728 rdfs:label \"Argelès-sur-Mer\"@es .\n",
      "\n",
      "wd:Q689457 rdfs:label \"Le Barcarès\"@es .\n",
      "\n",
      "wd:Q693973 rdfs:label \"Saverdun\"@es .\n",
      "\n",
      "wd:Q752547 rdfs:label \"Saint-Cyprien\"@es .\n",
      "\n",
      "wd:Q785353 rdfs:label \"Ruelle-sur-Touvre\"@es .\n",
      "\n",
      "wd:Q821246 rdfs:label \"Salses-le-Château\"@es .\n",
      "\n",
      "wd:Q828602 rdfs:label \"Prats-de-Mollo-la-Preste\"@es .\n",
      "\n",
      "wd:Q8672 rdfs:label \"Le Boulou\"@es .\n",
      "\n",
      "wd:Q142 rdfs:label \"Francia\"@es .\n",
      "\n",
      "\n"
     ]
    }
   ],
   "source": [
    "results = sparql.queryAndConvert()\n",
    "print(results.serialize())"
   ]
  },
  {
   "cell_type": "markdown",
   "id": "d7879d72-d064-42f5-90f6-9aa8653153d5",
   "metadata": {},
   "source": [
    "### We can save the results to a file"
   ]
  },
  {
   "cell_type": "code",
   "execution_count": 62,
   "id": "da87c939-f8b3-4686-aeac-3d37b0d56644",
   "metadata": {},
   "outputs": [],
   "source": [
    "with open(\"output/camps.ttl\", \"w\") as text_file:\n",
    "    text_file.write(results.serialize())"
   ]
  },
  {
   "cell_type": "markdown",
   "id": "bf60a833-32c2-4749-95fd-9dde44a94301",
   "metadata": {},
   "source": [
    "### We can also provide metadata about the extracted dataset using ontologies and controlled vocabularies"
   ]
  },
  {
   "cell_type": "code",
   "execution_count": 65,
   "id": "89bedf9b-d585-4c17-8028-9433063ae870",
   "metadata": {},
   "outputs": [],
   "source": [
    "from rdflib import Graph, URIRef, Literal, Namespace\n",
    "from rdflib.namespace import FOAF, RDF, DCTERMS, VOID, DC, SKOS, OWL\n",
    "import datetime"
   ]
  },
  {
   "cell_type": "code",
   "execution_count": 71,
   "id": "90c193e8-183e-4d46-8f1e-6d63954426e6",
   "metadata": {},
   "outputs": [],
   "source": [
    "domain = 'https://example.org/'\n",
    "\n",
    "g = Graph()\n",
    "g.bind(\"foaf\", FOAF)\n",
    "g.bind(\"rdf\", RDF)\n",
    "g.bind(\"dcterms\", DCTERMS)\n",
    "g.bind(\"dc\", DC)\n",
    "g.bind(\"void\", VOID)\n",
    "g.bind(\"skos\", SKOS)\n",
    "g.bind(\"owl\", OWL)\n",
    "\n",
    "schema = Namespace(\"https://schema.org/\")\n",
    "g.bind(\"schema\", schema)\n",
    "\n",
    "viaf = Namespace(\"https://viaf.org/viaf/\")\n",
    "g.bind(\"viaf\", viaf)\n",
    "\n",
    "wd = Namespace(\"http://www.wikidata.org/entity/\")\n",
    "g.bind(\"wd\", wd)"
   ]
  },
  {
   "cell_type": "code",
   "execution_count": 75,
   "id": "a4d3d436-cf1a-4a5f-b696-23689edb3410",
   "metadata": {},
   "outputs": [
    {
     "data": {
      "text/plain": [
       "<Graph identifier=N7b307f21654b43779b3671a65358f041 (<class 'rdflib.graph.Graph'>)>"
      ]
     },
     "execution_count": 75,
     "metadata": {},
     "output_type": "execute_result"
    }
   ],
   "source": [
    "dataset = URIRef(domain + \"dataset/camps\")\n",
    "\n",
    "g.add((dataset, RDF.type, schema.Dataset))\n",
    "g.add((dataset, schema.url, URIRef(\"https://www.cultura.gob.es/en/cultura/areas/archivos/mc/centros/cida/4-difusion-cooperacion/4-1-guias-de-lectura/guia-exilio-espanol-1939-archivos-estatales.html\")))\n",
    "g.add((dataset, schema.description, Literal(\"Example to retrieve the French refugee camps, which concentrated the Spanish Republican exiles of 1939.\")))\n",
    "g.add((dataset, schema.name, Literal(\"French refugee camps\")))\n",
    "g.add((dataset, DC.title, Literal(\"French refugee camps\")))\n",
    "g.add((dataset, schema.license, URIRef('https://creativecommons.org/publicdomain/zero/1.0/')))\n",
    "\n",
    "now = datetime.datetime.now()\n",
    "g.add((dataset, schema.dateCreated, Literal(str(now)[:10])))"
   ]
  },
  {
   "cell_type": "markdown",
   "id": "585a5504-c004-4cff-9a71-efe4a654a45e",
   "metadata": {},
   "source": [
    "Let's store the metadata generated"
   ]
  },
  {
   "cell_type": "code",
   "execution_count": 78,
   "id": "56f72cd1-9a6c-4bc4-b280-a4c545eedf12",
   "metadata": {},
   "outputs": [
    {
     "data": {
      "text/plain": [
       "<Graph identifier=N7b307f21654b43779b3671a65358f041 (<class 'rdflib.graph.Graph'>)>"
      ]
     },
     "execution_count": 78,
     "metadata": {},
     "output_type": "execute_result"
    }
   ],
   "source": [
    "g.serialize(destination=\"output/metadata-camps.ttl\") "
   ]
  },
  {
   "cell_type": "markdown",
   "id": "e8ac18a1-dda0-47e7-b1a7-161d939163fd",
   "metadata": {},
   "source": [
    "### Finally we can analyse the metadata generated"
   ]
  },
  {
   "cell_type": "code",
   "execution_count": 80,
   "id": "041ffc0f-9399-487b-be40-9dd1fe9616e0",
   "metadata": {},
   "outputs": [],
   "source": [
    "input_file = \"output/camps.ttl\"\n",
    "g = Graph().parse(input_file)"
   ]
  },
  {
   "cell_type": "markdown",
   "id": "36516988-b55d-41d6-9dc4-6fe35e6f0b52",
   "metadata": {},
   "source": [
    "Let's check the number of properties"
   ]
  },
  {
   "cell_type": "code",
   "execution_count": 94,
   "id": "de2c208d-a570-45b1-94cc-ed3fc9729f09",
   "metadata": {},
   "outputs": [
    {
     "name": "stdout",
     "output_type": "stream",
     "text": [
      "##### Number of properties:\n",
      "12\n"
     ]
    }
   ],
   "source": [
    "print('##### Number of properties:')\n",
    "\n",
    "# Query the data in g using SPARQL\n",
    "q = \"\"\"\n",
    "    SELECT (count(distinct ?prop) as ?properties)\n",
    "    WHERE {\n",
    "        ?s ?prop ?o .\n",
    "    }\n",
    "\"\"\"\n",
    "\n",
    "# Apply the query to the graph and iterate through results\n",
    "for r in g.query(q):\n",
    "    print(r[\"properties\"])"
   ]
  },
  {
   "cell_type": "markdown",
   "id": "daa4b39d-e792-4712-bb64-00be278dbb39",
   "metadata": {},
   "source": [
    "We can also check the total number of triples"
   ]
  },
  {
   "cell_type": "code",
   "execution_count": 97,
   "id": "3254590a-a649-4aab-ad88-369c7140a581",
   "metadata": {},
   "outputs": [
    {
     "name": "stdout",
     "output_type": "stream",
     "text": [
      "##### Number of triples:\n",
      "85\n"
     ]
    }
   ],
   "source": [
    "print('##### Number of triples:')\n",
    "    \n",
    "# Query the data in g using SPARQL\n",
    "q = \"\"\"\n",
    "    SELECT (COUNT(*) as ?triples) \n",
    "    WHERE { ?s ?p ?o } \n",
    "\"\"\"\n",
    "\n",
    "# Apply the query to the graph and iterate through results\n",
    "for r in g.query(q):\n",
    "    print(r[\"triples\"])"
   ]
  }
 ],
 "metadata": {
  "kernelspec": {
   "display_name": "Python [conda env:base] *",
   "language": "python",
   "name": "conda-base-py"
  },
  "language_info": {
   "codemirror_mode": {
    "name": "ipython",
    "version": 3
   },
   "file_extension": ".py",
   "mimetype": "text/x-python",
   "name": "python",
   "nbconvert_exporter": "python",
   "pygments_lexer": "ipython3",
   "version": "3.11.11"
  }
 },
 "nbformat": 4,
 "nbformat_minor": 5
}
