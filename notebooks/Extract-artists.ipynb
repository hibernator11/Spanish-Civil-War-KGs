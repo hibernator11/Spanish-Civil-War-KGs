{
 "cells": [
  {
   "cell_type": "markdown",
   "id": "b8c33416-fd88-49fa-9278-9072cd45b33f",
   "metadata": {},
   "source": [
    "## Artists from the Republic and Spanish Civil War\n",
    "\n",
    "This example is based on the book Artistas de la República which documents relevant artists related to the Republic and Spanish Civil War. The VALUES instruction enables the inclusion of a list of Wikidata identifiers representing a selection of the artists described in this book.\n",
    "\n",
    "This example shows how to use <a href=\"https://www.w3.org/TR/sparql11-query/\">SPARQL</a> as a query language in Linked Open Data repositories."
   ]
  },
  {
   "cell_type": "markdown",
   "id": "080a0add-aac8-4720-85c4-537ce550699f",
   "metadata": {},
   "source": [
    "### First of all, we init the SPARQLWrapper service with the SPARQL endpoint"
   ]
  },
  {
   "cell_type": "code",
   "execution_count": 30,
   "id": "acfc8563-d5f9-4289-81b8-4908369e3580",
   "metadata": {},
   "outputs": [],
   "source": [
    "from SPARQLWrapper import SPARQLWrapper\n",
    "\n",
    "sparql = SPARQLWrapper(\"https://query.wikidata.org/sparql\")"
   ]
  },
  {
   "cell_type": "markdown",
   "id": "d368bb9c-1bb9-4ba6-8c0d-5d0fcc924ec6",
   "metadata": {},
   "source": [
    "### Then we define our CONSTRUCT query to extract the metadata"
   ]
  },
  {
   "cell_type": "code",
   "execution_count": 60,
   "id": "f1f8ef02-e1ca-405e-8dde-03eb91facc88",
   "metadata": {},
   "outputs": [],
   "source": [
    "sparql.setQuery(\"\"\"\n",
    "PREFIX wdt: <http://www.wikidata.org/prop/direct/>\n",
    "PREFIX wd: <http://www.wikidata.org/entity/>\n",
    "\n",
    "CONSTRUCT {\n",
    "    ?artist wdt:P31 ?type .\n",
    "    ?artist wdt:P19 ?placeBirth . \n",
    "    ?placeBirth rdfs:label ?placeBirthLabel .\n",
    "    ?artist wdt:P20 ?placeDeath . \n",
    "    ?placeDeath rdfs:label ?placeDeathLabel .\n",
    "    ?artist wdt:P569 ?dateBirth .\n",
    "    ?artist wdt:P570 ?dateDeath .\n",
    "    ?artist wdt:P135 ?movement .\n",
    "    ?artist rdfs:label ?artistLabel .\n",
    "    ?artist wdt:P18 ?image .\n",
    "    ?artist wdt:P21 ?sex .\n",
    "} WHERE { \n",
    "    VALUES ?artist {\n",
    "        wd:Q5593 wd:Q152384 wd:Q2447692 wd:Q235275 wd:Q5660510 \n",
    "        wd:Q118936 wd:Q979226 wd:Q134644 wd:Q921933 wd:Q5994858 \n",
    "        wd:Q1042706 wd:Q3398317 wd:Q51545 wd:Q467712 wd:Q77347 wd:Q236161}\n",
    "    ?artist wdt:P31 ?type .\n",
    "    ?artist wdt:P19 ?placeBirth . \n",
    "    ?placeBirth rdfs:label ?placeBirthLabel . FILTER (lang(?placeBirthLabel) = 'es') .\n",
    "    ?artist wdt:P20 ?placeDeath . \n",
    "    ?placeDeath rdfs:label ?placeDeathLabel . FILTER (lang(?placeDeathLabel) = 'es') .\n",
    "    ?artist wdt:P569 ?dateBirth .\n",
    "    ?artist wdt:P570 ?dateDeath .\n",
    "    OPTIONAL {?artist wdt:P135 ?movement} .\n",
    "    ?artist rdfs:label ?artistLabel . FILTER (lang(?artistLabel) = 'es') .\n",
    "    OPTIONAL {?artist wdt:P18 ?image} .\n",
    "    OPTIONAL {?artist wdt:P21 ?sex} .\n",
    "}\n",
    "\"\"\"\n",
    ")"
   ]
  },
  {
   "cell_type": "markdown",
   "id": "51ed323c-22a8-49aa-b07a-bdc9cc68e0e4",
   "metadata": {},
   "source": [
    "### Finally, we serialise the result"
   ]
  },
  {
   "cell_type": "code",
   "execution_count": 63,
   "id": "1c4ad5c9-36a4-463f-a71c-1d42d15aa34f",
   "metadata": {},
   "outputs": [
    {
     "name": "stdout",
     "output_type": "stream",
     "text": [
      "@prefix rdfs: <http://www.w3.org/2000/01/rdf-schema#> .\n",
      "@prefix wd: <http://www.wikidata.org/entity/> .\n",
      "@prefix wdt: <http://www.wikidata.org/prop/direct/> .\n",
      "@prefix xsd: <http://www.w3.org/2001/XMLSchema#> .\n",
      "\n",
      "wd:Q1042706 rdfs:label \"Carlos Arniches\"@es ;\n",
      "    wdt:P18 <http://commons.wikimedia.org/wiki/Special:FilePath/Carlos%20Arniches%202.jpg> ;\n",
      "    wdt:P19 wd:Q11959 ;\n",
      "    wdt:P20 wd:Q2807 ;\n",
      "    wdt:P21 wd:Q6581097 ;\n",
      "    wdt:P31 wd:Q5 ;\n",
      "    wdt:P569 \"1866-10-11T00:00:00+00:00\"^^xsd:dateTime,\n",
      "        \"1866-11-11T00:00:00+00:00\"^^xsd:dateTime ;\n",
      "    wdt:P570 \"1943-04-16T00:00:00+00:00\"^^xsd:dateTime .\n",
      "\n",
      "wd:Q118936 rdfs:label \"Rafael Alberti\"@es ;\n",
      "    wdt:P18 <http://commons.wikimedia.org/wiki/Special:FilePath/Rafael%20Alberti%201978-10-01.jpg> ;\n",
      "    wdt:P19 wd:Q203040 ;\n",
      "    wdt:P20 wd:Q15682,\n",
      "        wd:Q203040 ;\n",
      "    wdt:P21 wd:Q6581097 ;\n",
      "    wdt:P31 wd:Q5 ;\n",
      "    wdt:P569 \"1902-12-16T00:00:00+00:00\"^^xsd:dateTime ;\n",
      "    wdt:P570 \"1999-10-28T00:00:00+00:00\"^^xsd:dateTime .\n",
      "\n",
      "wd:Q134644 rdfs:label \"Vicente Aleixandre\"@es ;\n",
      "    wdt:P135 wd:Q575691 ;\n",
      "    wdt:P18 <http://commons.wikimedia.org/wiki/Special:FilePath/Spaanse%20dichter%20en%20nobelprijswinnaar%20Vicente%20Alexandre%2C%20Bestanddeelnr%20929-3851.jpg> ;\n",
      "    wdt:P19 wd:Q8717 ;\n",
      "    wdt:P20 wd:Q2807 ;\n",
      "    wdt:P21 wd:Q6581097 ;\n",
      "    wdt:P31 wd:Q5 ;\n",
      "    wdt:P569 \"1898-04-26T00:00:00+00:00\"^^xsd:dateTime ;\n",
      "    wdt:P570 \"1984-12-14T00:00:00+00:00\"^^xsd:dateTime .\n",
      "\n",
      "wd:Q152384 rdfs:label \"Joan Miró\"@es ;\n",
      "    wdt:P135 wd:Q39427 ;\n",
      "    wdt:P18 <http://commons.wikimedia.org/wiki/Special:FilePath/Joan%20Miro%20%28cropped%29.jpg> ;\n",
      "    wdt:P19 wd:Q1492 ;\n",
      "    wdt:P20 wd:Q8826 ;\n",
      "    wdt:P21 wd:Q6581097 ;\n",
      "    wdt:P31 wd:Q5 ;\n",
      "    wdt:P569 \"1893-04-20T00:00:00+00:00\"^^xsd:dateTime ;\n",
      "    wdt:P570 \"1983-12-25T00:00:00+00:00\"^^xsd:dateTime .\n",
      "\n",
      "wd:Q235275 rdfs:label \"Remedios Varo\"@es ;\n",
      "    wdt:P135 wd:Q39427 ;\n",
      "    wdt:P19 wd:Q13027 ;\n",
      "    wdt:P20 wd:Q1489 ;\n",
      "    wdt:P21 wd:Q6581072 ;\n",
      "    wdt:P31 wd:Q5 ;\n",
      "    wdt:P569 \"1908-12-16T00:00:00+00:00\"^^xsd:dateTime ;\n",
      "    wdt:P570 \"1963-10-08T00:00:00+00:00\"^^xsd:dateTime .\n",
      "\n",
      "wd:Q236161 rdfs:label \"Dora la exploradora\"@es ;\n",
      "    wdt:P135 wd:Q39427 ;\n",
      "    wdt:P18 <http://commons.wikimedia.org/wiki/Special:FilePath/Dora%20Maar.jpg> ;\n",
      "    wdt:P19 wd:Q245546 ;\n",
      "    wdt:P20 wd:Q230127 ;\n",
      "    wdt:P21 wd:Q6581072 ;\n",
      "    wdt:P31 wd:Q5 ;\n",
      "    wdt:P569 \"1907-11-22T00:00:00+00:00\"^^xsd:dateTime ;\n",
      "    wdt:P570 \"1997-07-16T00:00:00+00:00\"^^xsd:dateTime .\n",
      "\n",
      "wd:Q2447692 rdfs:label \"Maruja Mallo\"@es ;\n",
      "    wdt:P135 wd:Q1153335,\n",
      "        wd:Q28474914,\n",
      "        wd:Q39427,\n",
      "        wd:Q575691 ;\n",
      "    wdt:P18 <http://commons.wikimedia.org/wiki/Special:FilePath/Maruja%20Mallo.JPG> ;\n",
      "    wdt:P19 wd:Q641221 ;\n",
      "    wdt:P20 wd:Q2807 ;\n",
      "    wdt:P21 wd:Q6581072 ;\n",
      "    wdt:P31 wd:Q5 ;\n",
      "    wdt:P569 \"1902-01-05T00:00:00+00:00\"^^xsd:dateTime ;\n",
      "    wdt:P570 \"1995-02-06T00:00:00+00:00\"^^xsd:dateTime .\n",
      "\n",
      "wd:Q3398317 rdfs:label \"Jesús Bal y Gay\"@es ;\n",
      "    wdt:P19 wd:Q11125 ;\n",
      "    wdt:P20 wd:Q1641236 ;\n",
      "    wdt:P21 wd:Q6581097 ;\n",
      "    wdt:P31 wd:Q5 ;\n",
      "    wdt:P569 \"1905-06-23T00:00:00+00:00\"^^xsd:dateTime ;\n",
      "    wdt:P570 \"1993-03-03T00:00:00+00:00\"^^xsd:dateTime .\n",
      "\n",
      "wd:Q467712 rdfs:label \"Josep Lluís Sert\"@es ;\n",
      "    wdt:P18 <http://commons.wikimedia.org/wiki/Special:FilePath/Josep%20Llu%C3%ADs%20Sert%20i%20L%C3%B3pez%20%281981%29%20%28cropped%29.jpg> ;\n",
      "    wdt:P19 wd:Q1492 ;\n",
      "    wdt:P20 wd:Q1492 ;\n",
      "    wdt:P21 wd:Q6581097 ;\n",
      "    wdt:P31 wd:Q5 ;\n",
      "    wdt:P569 \"1902-07-01T00:00:00+00:00\"^^xsd:dateTime ;\n",
      "    wdt:P570 \"1983-03-15T00:00:00+00:00\"^^xsd:dateTime .\n",
      "\n",
      "wd:Q51545 rdfs:label \"Luis Buñuel\"@es ;\n",
      "    wdt:P135 wd:Q39427 ;\n",
      "    wdt:P18 <http://commons.wikimedia.org/wiki/Special:FilePath/LuisBu%C3%B1uel1929.jpg> ;\n",
      "    wdt:P19 wd:Q737161 ;\n",
      "    wdt:P20 wd:Q1489 ;\n",
      "    wdt:P21 wd:Q6581097 ;\n",
      "    wdt:P31 wd:Q5 ;\n",
      "    wdt:P569 \"1900-02-22T00:00:00+00:00\"^^xsd:dateTime ;\n",
      "    wdt:P570 \"1983-07-29T00:00:00+00:00\"^^xsd:dateTime .\n",
      "\n",
      "wd:Q5994858 rdfs:label \"Manuel Ángeles Ortiz\"@es ;\n",
      "    wdt:P19 wd:Q15681 ;\n",
      "    wdt:P20 wd:Q187153 ;\n",
      "    wdt:P21 wd:Q6581097 ;\n",
      "    wdt:P31 wd:Q5 ;\n",
      "    wdt:P569 \"1895-01-13T00:00:00+00:00\"^^xsd:dateTime,\n",
      "        \"1895-01-16T00:00:00+00:00\"^^xsd:dateTime ;\n",
      "    wdt:P570 \"1984-04-04T00:00:00+00:00\"^^xsd:dateTime .\n",
      "\n",
      "wd:Q77347 rdfs:label \"Gerda Taro\"@es ;\n",
      "    wdt:P135 wd:Q506858,\n",
      "        wd:Q605789 ;\n",
      "    wdt:P18 <http://commons.wikimedia.org/wiki/Special:FilePath/Gerda%20Taro-Anonymous%20crop.jpg> ;\n",
      "    wdt:P19 wd:Q1022 ;\n",
      "    wdt:P20 wd:Q985269 ;\n",
      "    wdt:P21 wd:Q6581072 ;\n",
      "    wdt:P31 wd:Q5 ;\n",
      "    wdt:P569 \"1910-08-01T00:00:00+00:00\"^^xsd:dateTime ;\n",
      "    wdt:P570 \"1937-07-26T00:00:00+00:00\"^^xsd:dateTime .\n",
      "\n",
      "wd:Q921933 rdfs:label \"Manuel Altolaguirre\"@es ;\n",
      "    wdt:P135 wd:Q575691 ;\n",
      "    wdt:P18 <http://commons.wikimedia.org/wiki/Special:FilePath/Manuel%20Altolaguirre%20-%20Antigua%20Imprenta%20Sur%20-%20M%C3%A1laga%20-%20Grupo%20en%201927%20%28cropped%29.jpg> ;\n",
      "    wdt:P19 wd:Q8851 ;\n",
      "    wdt:P20 wd:Q9580 ;\n",
      "    wdt:P21 wd:Q6581097 ;\n",
      "    wdt:P31 wd:Q5 ;\n",
      "    wdt:P569 \"1905-06-29T00:00:00+00:00\"^^xsd:dateTime ;\n",
      "    wdt:P570 \"1959-07-26T00:00:00+00:00\"^^xsd:dateTime .\n",
      "\n",
      "wd:Q979226 rdfs:label \"Alberto Sánchez Pérez\"@es ;\n",
      "    wdt:P19 wd:Q5836 ;\n",
      "    wdt:P20 wd:Q649 ;\n",
      "    wdt:P21 wd:Q6581097 ;\n",
      "    wdt:P31 wd:Q5 ;\n",
      "    wdt:P569 \"1895-04-08T00:00:00+00:00\"^^xsd:dateTime ;\n",
      "    wdt:P570 \"1962-10-12T00:00:00+00:00\"^^xsd:dateTime .\n",
      "\n",
      "wd:Q1022 rdfs:label \"Stuttgart\"@es .\n",
      "\n",
      "wd:Q11125 rdfs:label \"Lugo\"@es .\n",
      "\n",
      "wd:Q11959 rdfs:label \"Alicante\"@es .\n",
      "\n",
      "wd:Q13027 rdfs:label \"Anglés\"@es .\n",
      "\n",
      "wd:Q15681 rdfs:label \"Jaén\"@es .\n",
      "\n",
      "wd:Q15682 rdfs:label \"Cádiz\"@es .\n",
      "\n",
      "wd:Q1641236 rdfs:label \"Torrelaguna\"@es .\n",
      "\n",
      "wd:Q187153 rdfs:label \"XIV Distrito de París\"@es .\n",
      "\n",
      "wd:Q230127 rdfs:label \"IV Distrito de París\"@es .\n",
      "\n",
      "wd:Q245546 rdfs:label \"VI Distrito de París\"@es .\n",
      "\n",
      "wd:Q5836 rdfs:label \"Toledo\"@es .\n",
      "\n",
      "wd:Q641221 rdfs:label \"Vivero\"@es .\n",
      "\n",
      "wd:Q649 rdfs:label \"Moscú\"@es .\n",
      "\n",
      "wd:Q737161 rdfs:label \"Calanda\"@es .\n",
      "\n",
      "wd:Q8717 rdfs:label \"Sevilla\"@es .\n",
      "\n",
      "wd:Q8826 rdfs:label \"Palma de Mallorca\"@es .\n",
      "\n",
      "wd:Q8851 rdfs:label \"Málaga\"@es .\n",
      "\n",
      "wd:Q9580 rdfs:label \"Burgos\"@es .\n",
      "\n",
      "wd:Q985269 rdfs:label \"El Escorial\"@es .\n",
      "\n",
      "wd:Q1489 rdfs:label \"Ciudad de México\"@es .\n",
      "\n",
      "wd:Q203040 rdfs:label \"El Puerto de Santa María\"@es .\n",
      "\n",
      "wd:Q1492 rdfs:label \"Barcelona\"@es .\n",
      "\n",
      "wd:Q2807 rdfs:label \"Madrid\"@es .\n",
      "\n",
      "\n"
     ]
    }
   ],
   "source": [
    "results = sparql.queryAndConvert()\n",
    "print(results.serialize())"
   ]
  },
  {
   "cell_type": "markdown",
   "id": "d7879d72-d064-42f5-90f6-9aa8653153d5",
   "metadata": {},
   "source": [
    "### We can save the results to a file"
   ]
  },
  {
   "cell_type": "code",
   "execution_count": 66,
   "id": "da87c939-f8b3-4686-aeac-3d37b0d56644",
   "metadata": {},
   "outputs": [],
   "source": [
    "with open(\"output/artists.ttl\", \"w\") as text_file:\n",
    "    text_file.write(results.serialize())"
   ]
  },
  {
   "cell_type": "markdown",
   "id": "bf60a833-32c2-4749-95fd-9dde44a94301",
   "metadata": {},
   "source": [
    "### We can also provide metadata about the extracted dataset using ontologies and controlled vocabularies"
   ]
  },
  {
   "cell_type": "code",
   "execution_count": 69,
   "id": "89bedf9b-d585-4c17-8028-9433063ae870",
   "metadata": {},
   "outputs": [],
   "source": [
    "from rdflib import Graph, URIRef, Literal, Namespace\n",
    "from rdflib.namespace import FOAF, RDF, DCTERMS, VOID, DC, SKOS, OWL\n",
    "import datetime"
   ]
  },
  {
   "cell_type": "code",
   "execution_count": 71,
   "id": "90c193e8-183e-4d46-8f1e-6d63954426e6",
   "metadata": {},
   "outputs": [],
   "source": [
    "domain = 'https://example.org/'\n",
    "\n",
    "g = Graph()\n",
    "g.bind(\"foaf\", FOAF)\n",
    "g.bind(\"rdf\", RDF)\n",
    "g.bind(\"dcterms\", DCTERMS)\n",
    "g.bind(\"dc\", DC)\n",
    "g.bind(\"void\", VOID)\n",
    "g.bind(\"skos\", SKOS)\n",
    "g.bind(\"owl\", OWL)\n",
    "\n",
    "schema = Namespace(\"https://schema.org/\")\n",
    "g.bind(\"schema\", schema)\n",
    "\n",
    "viaf = Namespace(\"https://viaf.org/viaf/\")\n",
    "g.bind(\"viaf\", viaf)\n",
    "\n",
    "wd = Namespace(\"http://www.wikidata.org/entity/\")\n",
    "g.bind(\"wd\", wd)"
   ]
  },
  {
   "cell_type": "code",
   "execution_count": 73,
   "id": "a4d3d436-cf1a-4a5f-b696-23689edb3410",
   "metadata": {},
   "outputs": [
    {
     "data": {
      "text/plain": [
       "<Graph identifier=N6f8dd9f43bb443a2b47b6983b335f114 (<class 'rdflib.graph.Graph'>)>"
      ]
     },
     "execution_count": 73,
     "metadata": {},
     "output_type": "execute_result"
    }
   ],
   "source": [
    "dataset = URIRef(domain + \"dataset/artists\")\n",
    "\n",
    "g.add((dataset, RDF.type, schema.Dataset))\n",
    "g.add((dataset, schema.url, URIRef(\"https://www.cultura.gob.es/en/cultura/areas/archivos/mc/centros/cida/4-difusion-cooperacion/4-1-guias-de-lectura/guia-exilio-espanol-1939-archivos-estatales.html\")))\n",
    "g.add((dataset, schema.description, Literal(\"This example is based on the book Artistas de la República which documents relevant artists related to the Republic and Spanish Civil War.\")))\n",
    "g.add((dataset, schema.name, Literal(\"Artists from the Republic and Spanish Civil War\")))\n",
    "g.add((dataset, DC.title, Literal(\"Artists from the Republic and Spanish Civil War\")))\n",
    "g.add((dataset, schema.license, URIRef('https://creativecommons.org/publicdomain/zero/1.0/')))\n",
    "\n",
    "now = datetime.datetime.now()\n",
    "g.add((dataset, schema.dateCreated, Literal(str(now)[:10])))"
   ]
  },
  {
   "cell_type": "markdown",
   "id": "585a5504-c004-4cff-9a71-efe4a654a45e",
   "metadata": {},
   "source": [
    "Let's store the metadata generated"
   ]
  },
  {
   "cell_type": "code",
   "execution_count": 76,
   "id": "56f72cd1-9a6c-4bc4-b280-a4c545eedf12",
   "metadata": {},
   "outputs": [
    {
     "data": {
      "text/plain": [
       "<Graph identifier=N6f8dd9f43bb443a2b47b6983b335f114 (<class 'rdflib.graph.Graph'>)>"
      ]
     },
     "execution_count": 76,
     "metadata": {},
     "output_type": "execute_result"
    }
   ],
   "source": [
    "g.serialize(destination=\"output/metadata-artists.ttl\") "
   ]
  },
  {
   "cell_type": "markdown",
   "id": "e8ac18a1-dda0-47e7-b1a7-161d939163fd",
   "metadata": {},
   "source": [
    "### Finally we can analyse the metadata generated"
   ]
  },
  {
   "cell_type": "code",
   "execution_count": 79,
   "id": "041ffc0f-9399-487b-be40-9dd1fe9616e0",
   "metadata": {},
   "outputs": [],
   "source": [
    "input_file = \"output/artists.ttl\"\n",
    "g = Graph().parse(input_file)"
   ]
  },
  {
   "cell_type": "markdown",
   "id": "36516988-b55d-41d6-9dc4-6fe35e6f0b52",
   "metadata": {},
   "source": [
    "Let's check the number of properties"
   ]
  },
  {
   "cell_type": "code",
   "execution_count": 82,
   "id": "de2c208d-a570-45b1-94cc-ed3fc9729f09",
   "metadata": {},
   "outputs": [
    {
     "name": "stdout",
     "output_type": "stream",
     "text": [
      "##### Number of properties:\n",
      "9\n"
     ]
    }
   ],
   "source": [
    "print('##### Number of properties:')\n",
    "\n",
    "# Query the data in g using SPARQL\n",
    "q = \"\"\"\n",
    "    SELECT (count(distinct ?prop) as ?properties)\n",
    "    WHERE {\n",
    "        ?s ?prop ?o .\n",
    "    }\n",
    "\"\"\"\n",
    "\n",
    "# Apply the query to the graph and iterate through results\n",
    "for r in g.query(q):\n",
    "    print(r[\"properties\"])"
   ]
  },
  {
   "cell_type": "markdown",
   "id": "daa4b39d-e792-4712-bb64-00be278dbb39",
   "metadata": {},
   "source": [
    "We can also check the total number of triples"
   ]
  },
  {
   "cell_type": "code",
   "execution_count": 85,
   "id": "3254590a-a649-4aab-ad88-369c7140a581",
   "metadata": {},
   "outputs": [
    {
     "name": "stdout",
     "output_type": "stream",
     "text": [
      "##### Number of triples:\n",
      "146\n"
     ]
    }
   ],
   "source": [
    "print('##### Number of triples:')\n",
    "    \n",
    "# Query the data in g using SPARQL\n",
    "q = \"\"\"\n",
    "    SELECT (COUNT(*) as ?triples) \n",
    "    WHERE { ?s ?p ?o } \n",
    "\"\"\"\n",
    "\n",
    "# Apply the query to the graph and iterate through results\n",
    "for r in g.query(q):\n",
    "    print(r[\"triples\"])"
   ]
  }
 ],
 "metadata": {
  "kernelspec": {
   "display_name": "Python [conda env:federated-psarql]",
   "language": "python",
   "name": "conda-env-federated-psarql-py"
  },
  "language_info": {
   "codemirror_mode": {
    "name": "ipython",
    "version": 3
   },
   "file_extension": ".py",
   "mimetype": "text/x-python",
   "name": "python",
   "nbconvert_exporter": "python",
   "pygments_lexer": "ipython3",
   "version": "3.11.11"
  }
 },
 "nbformat": 4,
 "nbformat_minor": 5
}
